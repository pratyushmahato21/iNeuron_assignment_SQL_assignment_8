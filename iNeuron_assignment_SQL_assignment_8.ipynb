{
 "cells": [
  {
   "cell_type": "markdown",
   "id": "75e1063c",
   "metadata": {},
   "source": [
    "Q-15. Write an SQL query to fetch intersecting records of two tables."
   ]
  },
  {
   "cell_type": "markdown",
   "id": "ca15dad0",
   "metadata": {},
   "source": [
    "SELECT worker.*, worker_copy.*\n",
    "FROM worker\n",
    "INNER JOIN worker_copy\n",
    "ON worker.emp_no = worker_copy.emp_no;"
   ]
  },
  {
   "cell_type": "markdown",
   "id": "ad91ab07",
   "metadata": {},
   "source": [
    "Q-16. Write an SQL query to show records from one table that another table does not\n",
    "have."
   ]
  },
  {
   "cell_type": "markdown",
   "id": "1eb43e50",
   "metadata": {},
   "source": [
    "SELECT WORKER.*, worker_copy.*\n",
    "FROM WORKER\n",
    "INNER JOIN worker_copy\n",
    "ON WORKER.emp_no = worker_copy.emp_no\n",
    "WHERE WORKER.first_name IS NULL;"
   ]
  },
  {
   "cell_type": "code",
   "execution_count": null,
   "id": "6a4de5bc",
   "metadata": {},
   "outputs": [],
   "source": []
  }
 ],
 "metadata": {
  "kernelspec": {
   "display_name": "Python 3 (ipykernel)",
   "language": "python",
   "name": "python3"
  },
  "language_info": {
   "codemirror_mode": {
    "name": "ipython",
    "version": 3
   },
   "file_extension": ".py",
   "mimetype": "text/x-python",
   "name": "python",
   "nbconvert_exporter": "python",
   "pygments_lexer": "ipython3",
   "version": "3.8.12"
  }
 },
 "nbformat": 4,
 "nbformat_minor": 5
}
